{
 "cells": [
  {
   "cell_type": "code",
   "execution_count": 29,
   "id": "66f2c9de",
   "metadata": {},
   "outputs": [],
   "source": [
    "import cv2\n",
    "import numpy as np\n",
    "import imutils\n",
    "import argparse"
   ]
  },
  {
   "cell_type": "code",
   "execution_count": 30,
   "id": "bd22a039",
   "metadata": {},
   "outputs": [],
   "source": [
    "HOGCV = cv2.HOGDescriptor()\n",
    "HOGCV.setSVMDetector(cv2.HOGDescriptor_getDefaultPeopleDetector())"
   ]
  },
  {
   "cell_type": "code",
   "execution_count": 31,
   "id": "49ba8578",
   "metadata": {},
   "outputs": [],
   "source": [
    "def detect(frame):\n",
    "    bounding_box_cordinates, weights =  HOGCV.detectMultiScale(frame, winStride = (4, 4), padding = (8, 8), scale = 1.03)\n",
    "    \n",
    "    person = 1\n",
    "    for x,y,w,h in bounding_box_cordinates:\n",
    "        cv2.rectangle(frame, (x,y), (x+w,y+h), (0,255,0), 2)\n",
    "        cv2.putText(frame, 'person {person}', (x,y), cv2.FONT_HERSHEY_SIMPLEX, 0.5, (0,0,255), 1)\n",
    "        person += 1\n",
    "    \n",
    "    cv2.putText(frame, 'Status : Detecting ', (40,40), cv2.FONT_HERSHEY_DUPLEX, 0.8, (255,0,0), 2)\n",
    "    cv2.putText(frame, f'Total Persons : {person-1}', (40,70), cv2.FONT_HERSHEY_DUPLEX, 0.8, (255,0,0), 2)\n",
    "    cv2.imshow('output', frame)\n",
    "\n",
    "    return frame"
   ]
  },
  {
   "cell_type": "code",
   "execution_count": 34,
   "id": "59518bdc",
   "metadata": {},
   "outputs": [],
   "source": [
    "image = cv2.imread(\"C:\\Desktop\\HDP 2.0\\VirtualEnv\\HDInput.png\")\n",
    "image = imutils.resize(image, width = min(800, image.shape[1])) \n",
    "result_image = detect(image)\n",
    "cv2.waitKey(0)\n",
    "cv2.destroyAllWindows()"
   ]
  },
  {
   "cell_type": "code",
   "execution_count": 26,
   "id": "100362e2",
   "metadata": {},
   "outputs": [],
   "source": [
    "# def humanDetector(args):\n",
    "#     image_path = args[\"image\"]\n",
    "# def argsParser():\n",
    "#     arg_parse = argparse.ArgumentParser()\n",
    "#     arg_parse.add_argument(\"-i\", \"--image\", default=None, help=\"path to Image File \")\n",
    "#     args = vars(arg_parse.parse_args())\n",
    "\n",
    "#     return args"
   ]
  },
  {
   "cell_type": "code",
   "execution_count": 35,
   "id": "127c562e",
   "metadata": {},
   "outputs": [],
   "source": [
    "# if __name__ == \"__main__\":\n",
    "#     HOGCV = cv2.HOGDescriptor()\n",
    "#     HOGCV.setSVMDetector(cv2.HOGDescriptor_getDefaultPeopleDetector())\n",
    "\n",
    "#     args = argparse()\n",
    "#     humanDetector(args)\n"
   ]
  }
 ],
 "metadata": {
  "kernelspec": {
   "display_name": "Python 3 (ipykernel)",
   "language": "python",
   "name": "python3"
  },
  "language_info": {
   "codemirror_mode": {
    "name": "ipython",
    "version": 3
   },
   "file_extension": ".py",
   "mimetype": "text/x-python",
   "name": "python",
   "nbconvert_exporter": "python",
   "pygments_lexer": "ipython3",
   "version": "3.9.5"
  }
 },
 "nbformat": 4,
 "nbformat_minor": 5
}
